{
    "nbformat_minor": 1, 
    "cells": [
        {
            "source": "# IBM Data Science Professional Certificate  |  Coursera\n\n\n## Course Name: Applied Data Science Capstone Project\n\n\n### Course Instructor: Alex Aklson\n\n\n\n\n\n\n**Overall Description and Objectives:**\n\n1. Objective 1\n2. Objective 2\n3. etc\n\n**Notebook created by: Luis Lopez, November/2018**\n    \nNotebook created on IBM Watson Studio using Python 3.5", 
            "cell_type": "markdown", 
            "metadata": {
                "collapsed": true
            }
        }, 
        {
            "source": "#Import Python libraries\n\nimport pandas as pd\nimport numpy as np", 
            "cell_type": "code", 
            "metadata": {}, 
            "outputs": [], 
            "execution_count": 1
        }, 
        {
            "source": "#Greetings\n\nprint(\"Hello Capstone Project Course\")", 
            "cell_type": "code", 
            "metadata": {}, 
            "outputs": [
                {
                    "output_type": "stream", 
                    "name": "stdout", 
                    "text": "Hello Capstone Project Course\n"
                }
            ], 
            "execution_count": 2
        }, 
        {
            "source": "", 
            "cell_type": "code", 
            "metadata": {}, 
            "outputs": [], 
            "execution_count": null
        }
    ], 
    "metadata": {
        "kernelspec": {
            "display_name": "Python 3.5", 
            "name": "python3", 
            "language": "python"
        }, 
        "language_info": {
            "mimetype": "text/x-python", 
            "nbconvert_exporter": "python", 
            "version": "3.5.5", 
            "name": "python", 
            "pygments_lexer": "ipython3", 
            "file_extension": ".py", 
            "codemirror_mode": {
                "version": 3, 
                "name": "ipython"
            }
        }
    }, 
    "nbformat": 4
}